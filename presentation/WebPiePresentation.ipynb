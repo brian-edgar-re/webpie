{
 "cells": [
  {
   "cell_type": "markdown",
   "id": "236a4298",
   "metadata": {
    "slideshow": {
     "slide_type": "slide"
    }
   },
   "source": [
    "# WebPie \n",
    "\n",
    "  *web services development framework for Python*\n",
    "  \n",
    "  https://webpie.github.io/"
   ]
  },
  {
   "cell_type": "markdown",
   "id": "a94c881a",
   "metadata": {
    "slideshow": {
     "slide_type": "slide"
    }
   },
   "source": [
    "# History\n",
    "\n",
    "* Started around 2005 as part of rewriting D0 Trigger Database suite\n",
    "  * Migration from set of CGI/shell Python scripts to Apache/mod_python\n",
    "  * Old code: mix of Python and HTML\n",
    "  * Goals: \n",
    "    + Separate Python from HTML\n",
    "      - Separate functionality from representation\n",
    "    + Run under Apache/mod_python"
   ]
  },
  {
   "cell_type": "markdown",
   "id": "1c99f558",
   "metadata": {
    "slideshow": {
     "slide_type": "fragment"
    }
   },
   "source": [
    "* Since then was reused in multiple applications:\n",
    "  * 2007-2008 - NIMI/Tissue migrated from Zope\n",
    "  * 2010-2011 - ILC Ground Motion DB\n",
    "  * 2011-...  - ECL suite (ShiftScheduler, Collaboration DB)\n",
    "  * Query Engine\n",
    "  * DES Spakers Bureau, Constants, Collaboration, Publications, Telemetry Viewer\n",
    "  * IFBeam database\n",
    "  * NOvA Hardware DB\n",
    "  * Conditions databases - NOvA, Minerva, UConDB\n",
    "  * FTS-Lite\n",
    "  * CMS Rucio Consistency monitor - 2020-now\n",
    "  * MetaCat - 2019-now\n",
    "* Wide range of interactive web GUI applications and data web services"
   ]
  },
  {
   "cell_type": "markdown",
   "id": "7f056a69",
   "metadata": {
    "slideshow": {
     "slide_type": "fragment"
    }
   },
   "source": [
    "* Over the years was rewritten and renamed several times and became a stand-alone framework ``WebPie``"
   ]
  },
  {
   "cell_type": "markdown",
   "id": "0f51dde8",
   "metadata": {
    "slideshow": {
     "slide_type": "slide"
    }
   },
   "source": [
    "# Hello, World !\n",
    "\n",
    "The simplest WebPie application\n",
    "\n",
    "```python\n",
    "from webpie import WPApp\n",
    "\n",
    "def hello(request, relpath, **args):      # hello is a web method\n",
    "    return \"Hello, World !\\n\"             # always responds with \"Hello, World !\"\n",
    "\n",
    "WPApp(hello).run_server(9000)             # create application and run it as HTTP server\n",
    "```"
   ]
  },
  {
   "cell_type": "markdown",
   "id": "3665a2a6",
   "metadata": {
    "slideshow": {
     "slide_type": "fragment"
    }
   },
   "source": [
    "```sh\n",
    "$ curl http://localhost:9000\n",
    "Hello, World !\n",
    "```"
   ]
  },
  {
   "cell_type": "markdown",
   "id": "64634135",
   "metadata": {
    "slideshow": {
     "slide_type": "slide"
    }
   },
   "source": [
    "# Web Method Arguments\n",
    "\n",
    "```python\n",
    "def hello(request, relpath, **args):      # <--- web method\n",
    "    return \"Hello, World !\\n\"             \n",
    "```\n",
    "\n",
    "* request - parsed HTTP request\n",
    "* relpath - URL path relative to the web method\n",
    "* optional keyword arguments - URL query string parsed"
   ]
  },
  {
   "cell_type": "markdown",
   "id": "38a448f4",
   "metadata": {
    "slideshow": {
     "slide_type": "subslide"
    }
   },
   "source": [
    "# Web Method Arguments\n",
    "\n",
    "## request\n",
    "\n",
    "```python\n",
    "def hello(request, relpath, **args):      \n",
    "    return \"Hello, World !\\n\"             \n",
    "```\n",
    "\n",
    "``request`` is a WebOb Request object containing complete information about the HTTP request\n",
    "* WebOb is a public domain library, part of Pylons project\n",
    "* See http://www.webob.org/"
   ]
  },
  {
   "cell_type": "markdown",
   "id": "6c2a4d14",
   "metadata": {
    "slideshow": {
     "slide_type": "subslide"
    }
   },
   "source": [
    "# Web Method Arguments\n",
    "\n",
    "## relpath\n",
    "\n",
    "```python\n",
    "def hello(request, relpath, **args):\n",
    "    who = relpath or \"World\"\n",
    "    return f\"Hello, {who} !\\n\"             \n",
    "```\n",
    "\n",
    "``relpath`` is the URL path relative to the path to the web method"
   ]
  },
  {
   "cell_type": "markdown",
   "id": "4a73cbab",
   "metadata": {
    "slideshow": {
     "slide_type": "fragment"
    }
   },
   "source": [
    "Example:\n",
    "\n",
    "* URL: http://localhost:9000/webpie\n",
    "* URL Path: ``/webpie`` = ``/`` + ``webpie``\n",
    "  * ``/`` is path to web method. In our case, the ``hello`` method is at the top of the URL path\n",
    "  * ``webpie`` is the path tail after the web method path = relative path\n",
    "            \n"
   ]
  },
  {
   "cell_type": "markdown",
   "id": "5739b240",
   "metadata": {
    "slideshow": {
     "slide_type": "fragment"
    }
   },
   "source": [
    "```sh\n",
    "$ curl http://localhost:9000/webpie      # relpath is \"webpie\"\n",
    "Hello, webpie !\n",
    "\n",
    "$ curl http://localhost:9000/            # relpath is empty - use default\n",
    "Hello, World !\n",
    "\n",
    "$ curl http://localhost:9000/longer/multi/word/path     \n",
    "Hello, longer/multi/word/path !\n",
    "```"
   ]
  },
  {
   "cell_type": "markdown",
   "id": "2a71e8ae",
   "metadata": {
    "slideshow": {
     "slide_type": "subslide"
    }
   },
   "source": [
    "# Web Method Arguments\n",
    "\n",
    "## keyword arguments\n",
    "\n",
    "```python\n",
    "def greeter(request, relpath, who=\"world\"):      \n",
    "    return f\"Hello, {who} !\\n\"             \n",
    "```\n",
    "\n",
    "Named URL query arguments are passed to the web method as keyword arguments"
   ]
  },
  {
   "cell_type": "markdown",
   "id": "b91fca86",
   "metadata": {
    "slideshow": {
     "slide_type": "fragment"
    }
   },
   "source": [
    "Example:\n",
    "\n",
    "* URL: http://localhost:9000/hello?who=webpie\n",
    "* URL query string: ``who=webpie``\n",
    "* Passed to the web method as \n",
    "    ```python\n",
    "    response = webmethod(..., who=\"webpie\")\n",
    "    ```"
   ]
  },
  {
   "cell_type": "markdown",
   "id": "7c7af731",
   "metadata": {
    "slideshow": {
     "slide_type": "fragment"
    }
   },
   "source": [
    "```sh\n",
    "$ curl http://localhost:9000/hello\n",
    "Hello, world !\n",
    "\n",
    "$ curl http://localhost:9000/hello?who=webpie\n",
    "Hello, webpie !\n",
    "```"
   ]
  },
  {
   "cell_type": "markdown",
   "id": "a163bacb",
   "metadata": {
    "slideshow": {
     "slide_type": "fragment"
    }
   },
   "source": [
    "By the way, in this example, what happens to ``hello`` ?\n",
    "* it becomes ``relpath``, but it is ignored"
   ]
  },
  {
   "cell_type": "markdown",
   "id": "ecabb26b",
   "metadata": {
    "slideshow": {
     "slide_type": "slide"
    }
   },
   "source": [
    "# What does a web method return ?\n",
    "\n",
    "Generally, a web method is supposed to return WebOb ``Response`` object\n",
    " * ``Request`` -> ``webmethod()`` -> ``Response``"
   ]
  },
  {
   "cell_type": "markdown",
   "id": "9deb342c",
   "metadata": {
    "slideshow": {
     "slide_type": "fragment"
    }
   },
   "source": [
    "As a *convenience*, WebPie lets you return some pieces of the response and then creates the ``Response`` object from them using defaults\n",
    "  * str or bytes -> HTTP response with given body and 200 (success) status code\n",
    "  * int -> HTTP response with given status code, empty body\n",
    "  * iterable -> chunked response body, 200 status code\n",
    "  * (int, str or bytes or iterable) -> status code, response body\n",
    "  * (iterable, str) -> body, content type, 200 status code\n",
    "  * (iterable, dictionary) -> body, headers\n",
    "  * dictionary -> body=json.dumps(dictionary), content_type=\"text/json\"\n",
    "  * ..."
   ]
  },
  {
   "cell_type": "code",
   "execution_count": null,
   "id": "d67402ac",
   "metadata": {
    "slideshow": {
     "slide_type": "fragment"
    }
   },
   "outputs": [],
   "source": [
    "def method(self, request, relpath, **args):\n",
    "    ...\n",
    "    return \"Hello, World !\"                                    # simple text response\n",
    "    return [\"Hello\", \"World !\"]                                # chunked text response\n",
    "    return (format_csv(tup) for tup in my_data), \"text/csv\"    # CSV encoded data\n",
    "    return {\"name\": \"John Doe\", \"email\":\"jdoe@fnal.gov\"}       # JSON enoded data\n",
    "    return 403                                                 # standard \"access denied\" response"
   ]
  },
  {
   "cell_type": "markdown",
   "id": "81b15b21",
   "metadata": {
    "slideshow": {
     "slide_type": "slide"
    }
   },
   "source": [
    "# Handlers\n",
    "\n",
    "* Building an application with only one web method is quick and easy but limited\n",
    "* What if we want to have more than one web method in the application ?\n",
    "* Create a subclass of the WPHandler class and add multiple methods\n",
    "* Pass the subclass (not a method) to the App constructor"
   ]
  },
  {
   "cell_type": "code",
   "execution_count": null,
   "id": "8f39b332",
   "metadata": {
    "slideshow": {
     "slide_type": "fragment"
    }
   },
   "outputs": [],
   "source": [
    "from webpie import WPApp, WPHandler\n",
    "import time\n",
    "\n",
    "class Handler(WPHandler):\n",
    "    \n",
    "    def hello(self, request, relpath, name=\"stranger\"):      \n",
    "        return f\"Hello, {name}\\n\"\n",
    "    \n",
    "    def time(self, request, relpath):\n",
    "        return time.ctime() + \"\\n\"\n",
    "\n",
    "WPApp(Handler).run_server(9000)          # create WPApp from the Handler class, not a function"
   ]
  },
  {
   "cell_type": "markdown",
   "id": "a5d2f050",
   "metadata": {
    "slideshow": {
     "slide_type": "fragment"
    }
   },
   "source": [
    "```sh\n",
    "$ curl http://localhost:9000/hello\n",
    "Hello, stranger\n",
    "\n",
    "$ curl http://localhost:9000/hello?name=world\n",
    "Hello, world\n",
    "\n",
    "$ curl http://localhost:9000/time\n",
    "Fri Nov 12 15:16:07 2021\n",
    "```"
   ]
  },
  {
   "cell_type": "markdown",
   "id": "e39975db",
   "metadata": {
    "slideshow": {
     "slide_type": "slide"
    }
   },
   "source": [
    "# URL Mapping with Handlers\n",
    "\n",
    "```python\n",
    "class Handler(WPHandler):\n",
    "    \n",
    "    def hello(self, request, relpath, name=\"stranger\"):      \n",
    "        return f\"Hello, {name}\\n\"\n",
    "    \n",
    "    def time(self, request, relpath):\n",
    "        return time.ctime() + \"\\n\"\n",
    "\n",
    "WPApp(Handler).run_server(9000)\n",
    "```"
   ]
  },
  {
   "cell_type": "markdown",
   "id": "e06528d3",
   "metadata": {
    "slideshow": {
     "slide_type": "fragment"
    }
   },
   "source": [
    "Example URL: http://localhost:9000/hello?name=webpie\n",
    "\n",
    "* URL path: ``/hello`` = ``/`` + ``hello`` \n",
    "    * ``/`` is path to the Handler (top)\n",
    "    * ``hello`` is the name of the Handler's method\n",
    "    * relpath is empty\n",
    "* Query string: ``name=webpie``\n",
    "    * keyword argument\n",
    "      ```python\n",
    "         handler.hello(..., name=\"webpie\")\n",
    "      ```\n"
   ]
  },
  {
   "cell_type": "markdown",
   "id": "07ccf8c0",
   "metadata": {
    "slideshow": {
     "slide_type": "fragment"
    }
   },
   "source": [
    "Example URL: http://localhost:9000/hi?name=webpie\n",
    "* URL path: ``/hi`` = ``/`` + ``hi`` \n",
    "    * ``/`` is path to the Handler (top)\n",
    "    * ``hi`` - *error: the Handler does not have method \"hi\"*\n"
   ]
  },
  {
   "cell_type": "markdown",
   "id": "ba90d9db",
   "metadata": {
    "slideshow": {
     "slide_type": "slide"
    }
   },
   "source": [
    "# Nested Handlers\n",
    "\n",
    "* Handlers can be nested\n",
    "* URL path *is* the path through the handlers/subhandlrers tree from the top to the web method\n",
    "  - top handler -> subhandler -> ... subhandler -> web method\n",
    "* Better, more manageable structure of the code, object oriented design"
   ]
  },
  {
   "cell_type": "code",
   "execution_count": null,
   "id": "d4f6a235",
   "metadata": {
    "slideshow": {
     "slide_type": "fragment"
    }
   },
   "outputs": [],
   "source": [
    "class Clock(WPHandler):\n",
    "    def time(self, request, relpath):                      # <- .../clock/time\n",
    "        return time.ctime() + \"\\n\"\n",
    "\n",
    "class Greeter(WPHandler):\n",
    "    def hello(self, request, relpath, name=\"stranger\"):    # <- .../greet/hello \n",
    "        return f\"Hello, {name}\\n\"\n",
    "    \n",
    "class RootHandler(WPHandler):\n",
    "    def __init__(self, *params):\n",
    "        WPHandler.__init__(self, *params)\n",
    "        self.greet = Greeter(*params)             # <- http://host:port/greet/* \n",
    "        self.clock = Clock(*params)               # <- http://host:port/clock/*\n",
    "    \n",
    "WPApp(RootHandler).run_server(9000)"
   ]
  },
  {
   "cell_type": "markdown",
   "id": "fc490048",
   "metadata": {
    "slideshow": {
     "slide_type": "fragment"
    }
   },
   "source": [
    "```sh\n",
    "$ curl http://localhost:9000/clock/time\n",
    "Fri Nov 12 15:30:56 2021\n",
    "\n",
    "$ curl http://localhost:9000/greet/hello\n",
    "Hello, stranger\n",
    "```"
   ]
  },
  {
   "cell_type": "markdown",
   "id": "9f5e385f",
   "metadata": {
    "slideshow": {
     "slide_type": "slide"
    }
   },
   "source": [
    "# Nested Handlers - URL Mapping\n",
    "\n",
    "```python\n",
    "class Clock(WPHandler):\n",
    "    def time(self, request, relpath):                      # <- .../clock/time\n",
    "        return time.ctime() + \"\\n\"\n",
    "\n",
    "class Greeter(WPHandler):\n",
    "    def hello(self, request, relpath, name=\"stranger\"):    # <- .../greet/hello \n",
    "        return f\"Hello, {name}\\n\"\n",
    "    \n",
    "class RootHandler(WPHandler):\n",
    "    def __init__(self, *params):\n",
    "        WPHandler.__init__(self, *params)\n",
    "        self.greet = Greeter(*params)             # <- http://host:port/greet/* \n",
    "        self.clock = Clock(*params)               # <- http://host:port/clock/*\n",
    "    \n",
    "WPApp(RootHandler).run_server(9000)\n",
    "```"
   ]
  },
  {
   "cell_type": "markdown",
   "id": "d1c633e5",
   "metadata": {
    "slideshow": {
     "slide_type": "fragment"
    }
   },
   "source": [
    "Example URL: http://localhost:9000/greet/hello?name=webpie\n",
    "\n",
    "* URL path: ``/greet/hello`` = ``/`` + ``greet`` + ``/`` + ``hello`` \n",
    "    * ``/`` is path to the RootHandler (top)\n",
    "    * ``greet`` is path from the RootHandler to the Greeter\n",
    "    * ``hello`` is the name of the Greeter's method\n",
    "    * relpath is empty\n",
    "* Query string: ``name=webpie``\n",
    "    * keyword argument\n",
    "      ```python\n",
    "         handler.hello(..., name=\"webpie\")\n",
    "      ```"
   ]
  },
  {
   "cell_type": "markdown",
   "id": "ff91844e",
   "metadata": {
    "slideshow": {
     "slide_type": "slide"
    }
   },
   "source": [
    "# App and Handler Lifetime\n",
    "\n",
    "* WPApp object is *persistent*\n",
    "  * Created once when the server process starts\n",
    "  * Can be used to store state across requests"
   ]
  },
  {
   "cell_type": "markdown",
   "id": "e3e867af",
   "metadata": {
    "slideshow": {
     "slide_type": "fragment"
    }
   },
   "source": [
    "* WPHandler and Request objects are *transient*\n",
    "  * Created and destroyed for each request\n",
    "    * create Request\n",
    "    * create Handler\n",
    "    * process Request -> Handler -> Response\n",
    "    * destroy Request, Handler\n",
    "  * Handler has access to\n",
    "    * WPApp object (-> *persistent state*)\n",
    "    * Request object"
   ]
  },
  {
   "cell_type": "code",
   "execution_count": null,
   "id": "a4375d20",
   "metadata": {
    "slideshow": {
     "slide_type": "fragment"
    }
   },
   "outputs": [],
   "source": [
    "class MyHandler(WPHandler):\n",
    "    \n",
    "    def __init__(self, request, app):               # the Request and WPApp objects\n",
    "        WPHandler.__init__(self, request, app)\n",
    "        ...\n",
    "        \n",
    "    def method(self, request, relpath, *kw):        # same Request object\n",
    "        ...\n",
    "        app = self.App                              # self.App is the WPApp object"
   ]
  },
  {
   "cell_type": "markdown",
   "id": "9cf9522f",
   "metadata": {
    "slideshow": {
     "slide_type": "slide"
    }
   },
   "source": [
    "# Subclassing WPApp\n",
    "\n",
    "* WPApp, as well as WPHandler, can be subclassed\n",
    "  * In C++ terms, WPApp is a concrete virtual class\n",
    "* Derived class handles app configuration, persistent context initialization, etc.\n",
    "* Must call WPApp constructor\n",
    "\n",
    "```python\n",
    "class MyHandler(WPHandler):\n",
    "    \n",
    "    def __init__(self, request, app):\n",
    "        WPHandler.__init__(self, request, app)\n",
    "        ...\n",
    "\n",
    "class MyApp(WPApp):\n",
    "\n",
    "    def __init__(self, ...):\n",
    "        WPApp.__init__(self, MyHandler)\n",
    "        ...\n",
    "        \n",
    "MyApp(...).run_server(9000)\n",
    "```"
   ]
  },
  {
   "cell_type": "markdown",
   "id": "30626722",
   "metadata": {
    "slideshow": {
     "slide_type": "slide"
    }
   },
   "source": [
    "# Threaded Applications\n",
    "\n",
    "* Middleware like uWSGI, Apache/mod_wsgi process HTTP requests on concurrent threads\n",
    "* So does WebPie\n",
    "* WebPie provides a mechanism to support inter-thread synchronization/locking using the persistent WPApp object\n",
    "  * @app_synchronized decorator - coarse\n",
    "  * WPApp object as a lock and locking context manager - more fine grain"
   ]
  },
  {
   "cell_type": "markdown",
   "id": "3567e1cd",
   "metadata": {
    "slideshow": {
     "slide_type": "subslide"
    }
   },
   "source": [
    "# Threaded Applications\n",
    "\n",
    "## WPApp object as a locking context manager\n",
    "\n",
    "```python\n",
    "# Simple dictionary as a web service\n",
    "\n",
    "class Handler(WPHandler):\n",
    "    \n",
    "    def set(self, request, relpath, **kw):        # URL: .../set?name=value\n",
    "        with self.App:                            # acquire App's RLock object\n",
    "            for name, value in kw.items():\n",
    "                self.App.Memory[name] = value     # record values into App memory\n",
    "            return \"OK\\n\"\n",
    "    \n",
    "    def get(self, request, varname):\n",
    "        with self.App:                            # acquire App's RLock object\n",
    "            value = self.App.Memory.get(varname)\n",
    "            return value + \"\\n\" if value is not None else 404\n",
    "\n",
    "class App(WPApp):\n",
    "    \n",
    "    def __init__(self, *params, **args):\n",
    "        WPApp.__init__(self, *params, **args)\n",
    "        self.Memory = {}                          # accessible by concurrent threads\n",
    "        \n",
    "App(Handler).run_server(9000, max_connections=10) # up to 10 concurrent request threads\n",
    "```"
   ]
  },
  {
   "cell_type": "markdown",
   "id": "22628396",
   "metadata": {
    "slideshow": {
     "slide_type": "fragment"
    }
   },
   "source": [
    "```sh\n",
    "$ curl http://localhost:9000/get/x\n",
    "# (not found, yet)\n",
    "\n",
    "$ curl http://localhost:9000/set?x=2\n",
    "OK\n",
    "\n",
    "$ curl http://localhost:9000/get/x\n",
    "2\n",
    "```"
   ]
  },
  {
   "cell_type": "markdown",
   "id": "9d2960a3",
   "metadata": {
    "slideshow": {
     "slide_type": "subslide"
    }
   },
   "source": [
    "# Threaded Applications\n",
    "\n",
    "## @app_synchronized decorator\n",
    "\n",
    "```python\n",
    "@app_synchronized\n",
    "def web_method(...):\n",
    "    # code\n",
    "\n",
    "# equivalent:\n",
    "def web_method(...):\n",
    "    with self.App:\n",
    "        # code\n",
    "```"
   ]
  },
  {
   "cell_type": "code",
   "execution_count": null,
   "id": "c5786c1d",
   "metadata": {
    "slideshow": {
     "slide_type": "fragment"
    }
   },
   "outputs": [],
   "source": [
    "from webpie import WPApp, WPHandler, app_synchronized\n",
    "class Handler(WPHandler):\n",
    "    \n",
    "    @app_synchronized\n",
    "    def set(self, request, relpath, **kw):        # URL: .../set?name=value\n",
    "        for name, value in kw.items():            \n",
    "            self.App.Memory[name] = value         # record values in App memory\n",
    "        return \"OK\\n\"\n",
    "    \n",
    "    @app_synchronized\n",
    "    def get(self, request, varname):\n",
    "        value = self.App.Memory.get(varname)\n",
    "        return value + \"\\n\" if value is not None else 404\n",
    "\n",
    "class App(WPApp):\n",
    "    \n",
    "    def __init__(self, *params, **args):\n",
    "        WPApp.__init__(self, *params, **args)\n",
    "        self.Memory = {}\n",
    "        \n",
    "App(Handler).run_server(9000, max_connections=10) # up to 10 concurrent request threads"
   ]
  },
  {
   "cell_type": "markdown",
   "id": "2ec2d255",
   "metadata": {
    "slideshow": {
     "slide_type": "slide"
    }
   },
   "source": [
    "# WSGI\n",
    "\n",
    "* WSGI - Web Server Gateway Interface - standard for web server development in Python\n",
    "  * https://www.python.org/dev/peps/pep-3333/\n",
    "  * https://docs.python.org/3/library/wsgiref.html#module-wsgiref\n",
    "\n",
    "* Apache/mod_wsgi, Nginx/uWSGI - available web servers where a WSGI application can be plugged"
   ]
  },
  {
   "cell_type": "markdown",
   "id": "03660eca",
   "metadata": {
    "slideshow": {
     "slide_type": "fragment"
    }
   },
   "source": [
    "* WebPie\n",
    "  * Any WebPie application (WPApp object) *is* a WSGI application\n",
    "  * Can be plugged into mod_wsgi, uWSGI, etc."
   ]
  },
  {
   "cell_type": "markdown",
   "id": "35922f50",
   "metadata": {
    "slideshow": {
     "slide_type": "slide"
    }
   },
   "source": [
    "# Running under uWSGI\n",
    "\n",
    "```python\n",
    "from webpie import WPApp, WPHandler\n",
    "import time\n",
    "\n",
    "class Handler(WPHandler):\n",
    "    def hello(self, request, relpath, name=\"stranger\"):      \n",
    "        return f\"Hello, {name}\\n\"\n",
    "    def time(self, request, relpath):\n",
    "        return time.ctime() + \"\\n\"\n",
    "\n",
    "# instead of App(Handler).run_server(9000) ...\n",
    "\n",
    "application = WPApp(Handler)         # uWSGI, by default, expects \"application\"\n",
    "```"
   ]
  },
  {
   "cell_type": "markdown",
   "id": "b7752ae6",
   "metadata": {
    "slideshow": {
     "slide_type": "fragment"
    }
   },
   "source": [
    "```sh\n",
    "$ uwsgi --wsgi-file wsgi_app.py --http :9000 \n",
    "```"
   ]
  },
  {
   "cell_type": "markdown",
   "id": "588ec2e4",
   "metadata": {
    "slideshow": {
     "slide_type": "subslide"
    }
   },
   "source": [
    "# Running Same Code Standalone and under uWSGI\n",
    "\n",
    "```python\n",
    "from webpie import WPApp, WPHandler\n",
    "import time\n",
    "\n",
    "class Handler(WPHandler):\n",
    "    def hello(self, request, relpath, name=\"stranger\"):      \n",
    "        return f\"Hello, {name}\\n\"\n",
    "    def time(self, request, relpath):\n",
    "        return time.ctime() + \"\\n\"\n",
    "\n",
    "application = WPApp(Handler)\n",
    "\n",
    "if __name__ == \"__main__\":\n",
    "    # running stand-alone, e.g.: \"$ python wsgi_app.py 9000\"\n",
    "    import sys\n",
    "    port = int(sys.argv[1])\n",
    "    application.run_server(port)\n",
    "else:\n",
    "    # uWSGI knows to look for \"application\"\n",
    "    pass\n",
    "```"
   ]
  },
  {
   "cell_type": "markdown",
   "id": "8216ac3c",
   "metadata": {
    "slideshow": {
     "slide_type": "fragment"
    }
   },
   "source": [
    "```sh\n",
    "$ uwsgi --wsgi-file wsgi_app.py --http :9000 \n",
    "$ python wsgi_app.py 9000\n",
    "```"
   ]
  },
  {
   "cell_type": "markdown",
   "id": "baa6ba1f",
   "metadata": {
    "slideshow": {
     "slide_type": "slide"
    }
   },
   "source": [
    "# WebPie HTTP Server\n",
    "\n",
    "### Simple way:\n",
    "\n",
    "```python\n",
    "from webpie import WPApp, WPHandler\n",
    "\n",
    "class MyApp(WPApp):\n",
    "    ...\n",
    "        \n",
    "MyApp(...).run_server(9000)\n",
    "```"
   ]
  },
  {
   "cell_type": "markdown",
   "id": "4fc0ca14",
   "metadata": {
    "slideshow": {
     "slide_type": "fragment"
    }
   },
   "source": [
    "### Shortcut for:\n",
    "\n",
    "```python\n",
    "from webpie import WPApp, WPHandler, HTTPServer\n",
    "...\n",
    "\n",
    "class MyApp(WPApp):\n",
    "    ...\n",
    "        \n",
    "application = MyApp(...)\n",
    "server = HTTPServer(9000, application)\n",
    "server.run()\n",
    "```"
   ]
  },
  {
   "cell_type": "markdown",
   "id": "a6c30be0",
   "metadata": {
    "slideshow": {
     "slide_type": "subslide"
    }
   },
   "source": [
    "# WebPie HTTP Server\n",
    "\n",
    "### Threaded application:\n",
    "\n",
    "```python\n",
    "from webpie import WPApp, WPHandler, HTTPServer\n",
    "...\n",
    "\n",
    "class MyApp(WPApp):\n",
    "    ...\n",
    "        \n",
    "application = MyApp(...)\n",
    "server = HTTPServer(9000, application, max_connections=5, max_queued=20)     # HTTPSever is a Thread\n",
    "server.start()                                \n",
    "server.join()\n",
    "```\n",
    "\n",
    "* Optional ``max_connections``, ``max_queued`` arguments control thread concurrency"
   ]
  },
  {
   "cell_type": "markdown",
   "id": "e591c71f",
   "metadata": {
    "slideshow": {
     "slide_type": "fragment"
    }
   },
   "source": [
    "* ``application`` in fact can be any WSGI application, not necessarily WPApp"
   ]
  },
  {
   "cell_type": "markdown",
   "id": "c31cd8b5",
   "metadata": {
    "slideshow": {
     "slide_type": "slide"
    }
   },
   "source": [
    "# Other Features\n",
    "\n",
    "* Support for sessions - use WPSessionApp subclass of WPApp\n",
    "  * uses cookies to carry session id\n",
    "  * persistent session data storage\n",
    "* Static file server - WPStaticHandler (WPHandler subclass) - pluggable into the Handler tree\n",
    "  * Add static content (images, icons, JavaScript, CSS, etc.) to your application\n",
    "* Method restrictions - strict applications\n",
    "  * not all methods of Handler class need to be exposed as web methods\n",
    "  * simple: methods starting with \"_\" are not web methods\n",
    "  * alternative: @webmethod decorator\n",
    "* HTTPS support\n",
    "* Jinja2 support - if jinja2 is installed\n",
    "  * Conveniently render the template and wrap it into the Response object\n",
    "* Built in HTTP/HTTPS server\n",
    "  * multi-process\n",
    "  * multi-threaded\n",
    "  * multi-app - route by URL path prefix\n"
   ]
  },
  {
   "cell_type": "markdown",
   "id": "460c73d1",
   "metadata": {
    "slideshow": {
     "slide_type": "slide"
    }
   },
   "source": [
    "# Installation\n",
    "\n",
    "```sh\n",
    "$ pip install webpie\n",
    "```\n",
    "or\n",
    "```sh\n",
    "$ pip install --user webpie\n",
    "```"
   ]
  },
  {
   "cell_type": "markdown",
   "id": "bd7d37a7",
   "metadata": {
    "slideshow": {
     "slide_type": "fragment"
    }
   },
   "source": [
    "# GitHub\n",
    "\n",
    "https://github.com/webpie/webpie.git"
   ]
  }
 ],
 "metadata": {
  "celltoolbar": "Slideshow",
  "kernelspec": {
   "display_name": "Python 3 (ipykernel)",
   "language": "python",
   "name": "python3"
  },
  "language_info": {
   "codemirror_mode": {
    "name": "ipython",
    "version": 3
   },
   "file_extension": ".py",
   "mimetype": "text/x-python",
   "name": "python",
   "nbconvert_exporter": "python",
   "pygments_lexer": "ipython3",
   "version": "3.7.10"
  }
 },
 "nbformat": 4,
 "nbformat_minor": 5
}
