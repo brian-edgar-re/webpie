{
 "cells": [
  {
   "cell_type": "markdown",
   "id": "c1a19a4d",
   "metadata": {
    "slideshow": {
     "slide_type": "slide"
    }
   },
   "source": [
    "# WebPie \n",
    "\n",
    "  *web services development framework for Python*\n",
    "  \n",
    "  https://webpie.github.io/"
   ]
  },
  {
   "cell_type": "markdown",
   "id": "50b09eee-3fc6-42fc-a05f-161060566b91",
   "metadata": {
    "slideshow": {
     "slide_type": "slide"
    }
   },
   "source": [
    "# Hello, World !"
   ]
  },
  {
   "cell_type": "code",
   "execution_count": null,
   "id": "f060e9f9-acca-485e-ba5d-18cd154c60d8",
   "metadata": {
    "slideshow": {
     "slide_type": "fragment"
    }
   },
   "outputs": [],
   "source": [
    "from webpie import WPApp\n",
    "\n",
    "def hello(request, relpath, **args):      # hello is a web method\n",
    "    return \"Hello, World !\\n\"             # always responds with \"Hello, World !\"\n",
    "\n",
    "WPApp(hello).run_server(9000)             # create application and run it as HTTP server"
   ]
  },
  {
   "cell_type": "markdown",
   "id": "a90f1d72-736c-48cc-bbd1-157c0d2bc07d",
   "metadata": {
    "slideshow": {
     "slide_type": "fragment"
    }
   },
   "source": [
    "```sh\n",
    "$ curl http://localhost:9000\n",
    "Hello, World !\n",
    "```"
   ]
  },
  {
   "cell_type": "markdown",
   "id": "5a97bafe",
   "metadata": {
    "slideshow": {
     "slide_type": "slide"
    }
   },
   "source": [
    "# Web Method Arguments: request"
   ]
  },
  {
   "cell_type": "code",
   "execution_count": null,
   "id": "a1a4a6b0",
   "metadata": {
    "slideshow": {
     "slide_type": "fragment"
    }
   },
   "outputs": [],
   "source": [
    "from webpie import WPApp\n",
    "\n",
    "def hello(request, relpath, **args):      # hello is a web method\n",
    "    return \"Hello, World !\\n\"             # always responds with \"Hello, World !\"\n",
    "\n",
    "WPApp(hello).run_server(9000)             # create application and run it as HTTP server"
   ]
  },
  {
   "cell_type": "markdown",
   "id": "ccdd919f-bba1-4fb2-b8c7-660821fb797c",
   "metadata": {
    "slideshow": {
     "slide_type": "fragment"
    },
    "tags": []
   },
   "source": [
    "``request`` is a WebOb Request object\n",
    "* Parsed HTTP request + WSGI environment\n",
    "* See http://www.webob.org/"
   ]
  },
  {
   "cell_type": "markdown",
   "id": "1909d5a5",
   "metadata": {
    "slideshow": {
     "slide_type": "slide"
    }
   },
   "source": [
    "# Web Method Arguments: relpath"
   ]
  },
  {
   "cell_type": "code",
   "execution_count": null,
   "id": "298124c0",
   "metadata": {
    "slideshow": {
     "slide_type": "fragment"
    }
   },
   "outputs": [],
   "source": [
    "from webpie import WPApp\n",
    "\n",
    "def hello(request, relpath, **args):\n",
    "    who = relpath or \"World\"\n",
    "    return f\"Hello, {who} !\\n\"             \n",
    "\n",
    "WPApp(hello).run_server(9000)             "
   ]
  },
  {
   "cell_type": "markdown",
   "id": "880577a1",
   "metadata": {
    "slideshow": {
     "slide_type": "fragment"
    },
    "tags": []
   },
   "source": [
    "``relpath`` is the URL path relative to the path to the web method\n",
    "\n",
    "    http://localhost:9000/webpie\n",
    "        -> Path: /webpie\n",
    "            -> path to web method: \"/\" (in our case - top)\n",
    "            ->               tail: \"webpie\" -> relpath argument "
   ]
  },
  {
   "cell_type": "markdown",
   "id": "9eacea6c",
   "metadata": {},
   "source": [
    "```sh\n",
    "$ curl http://localhost:9000/            # relpath is empty\n",
    "Hello, World !\n",
    "\n",
    "$ curl http://localhost:9000/webpie      # relpath is \"webpie\"\n",
    "Hello, webpie !\n",
    "```"
   ]
  },
  {
   "cell_type": "markdown",
   "id": "19f07235",
   "metadata": {
    "slideshow": {
     "slide_type": "slide"
    }
   },
   "source": [
    "# Web Method Arguments: key=value"
   ]
  },
  {
   "cell_type": "code",
   "execution_count": null,
   "id": "41b568ac",
   "metadata": {
    "slideshow": {
     "slide_type": "fragment"
    }
   },
   "outputs": [],
   "source": [
    "from webpie import WPApp\n",
    "\n",
    "def hello(request, relpath, name=\"world\"):      \n",
    "    return f\"Hello, {name} !\\n\"             \n",
    "\n",
    "WPApp(hello).run_server(9000)             "
   ]
  },
  {
   "cell_type": "markdown",
   "id": "d8c687eb",
   "metadata": {
    "slideshow": {
     "slide_type": "fragment"
    },
    "tags": []
   },
   "source": [
    "Named URL query arguments passed to the web method as keyword arguments\n",
    "\n",
    "    http://localhost:9000/hello?name=webpie\n",
    "        -> Query arguments:\n",
    "            name=\"webpie\""
   ]
  },
  {
   "cell_type": "markdown",
   "id": "04fad0d8",
   "metadata": {
    "slideshow": {
     "slide_type": "fragment"
    }
   },
   "source": [
    "```sh\n",
    "$ curl http://localhost:9000/hello\n",
    "Hello, world !\n",
    "\n",
    "$ curl http://localhost:9000/hello?name=webpie\n",
    "Hello, webpie !\n",
    "```"
   ]
  },
  {
   "cell_type": "markdown",
   "id": "d0ce97f6-9eb1-4792-8874-991284db5546",
   "metadata": {
    "slideshow": {
     "slide_type": "slide"
    }
   },
   "source": [
    "# Handlers\n",
    "\n",
    "* What if we want to have more than one web method in the application ?\n",
    "* Create a subclass of the WPHandler class and add multiple methods"
   ]
  },
  {
   "cell_type": "code",
   "execution_count": null,
   "id": "881a4994-4a40-40e9-b2f5-fed3075175cd",
   "metadata": {
    "slideshow": {
     "slide_type": "fragment"
    }
   },
   "outputs": [],
   "source": [
    "from webpie import WPApp, WPHandler\n",
    "import time\n",
    "\n",
    "class Handler(WPHandler):\n",
    "    \n",
    "    def hello(self, request, relpath, name=\"stranger\"):      \n",
    "        return f\"Hello, {name}\\n\"\n",
    "    \n",
    "    def time(self, request, relpath):\n",
    "        return time.ctime() + \"\\n\"\n",
    "\n",
    "WPApp(Handler).run_server(9000)"
   ]
  },
  {
   "cell_type": "markdown",
   "id": "74a52c83",
   "metadata": {
    "slideshow": {
     "slide_type": "fragment"
    }
   },
   "source": [
    "```sh\n",
    "$ curl http://localhost:8000/hello\n",
    "Hello, stranger\n",
    "\n",
    "$ curl http://localhost:8000/hello?name=world\n",
    "Hello, world\n",
    "\n",
    "$ curl http://localhost:8000/time\n",
    "Fri Nov 12 15:16:07 2021\n",
    "```"
   ]
  },
  {
   "cell_type": "markdown",
   "id": "6f7670c9",
   "metadata": {
    "slideshow": {
     "slide_type": "slide"
    }
   },
   "source": [
    "# Nested Handlers\n",
    "\n",
    "* Handlers can be nested: top handler / subhandler / subhandler / ... / web method\n",
    "* URL path *is* the path through the handlers/subhandlrers tree from the top to the web method\n",
    "* Better, more manageable structure of the code, object oriented design"
   ]
  },
  {
   "cell_type": "code",
   "execution_count": null,
   "id": "fed8c1ab",
   "metadata": {
    "slideshow": {
     "slide_type": "fragment"
    }
   },
   "outputs": [],
   "source": [
    "from webpie import WPApp, WPHandler\n",
    "import time\n",
    "\n",
    "class Clock(WPHandler):\n",
    "    def time(self, request, relpath):             # <- http://host:port/clock/time\n",
    "        return time.ctime() + \"\\n\"\n",
    "\n",
    "class Greeter(WPHandler):\n",
    "    def hello(self, request, relpath, name=\"stranger\"):    # <- http://host:port/greet/hello \n",
    "        return f\"Hello, {name}\\n\"\n",
    "\n",
    "class RootHandler(WPHandler):\n",
    "    def __init__(self, *params):\n",
    "        WPHandler.__init__(self, *params)\n",
    "        self.greet = Greeter(*params)             # <- http://host:port/greet/* \n",
    "        self.clock = Clock(*params)               # <- http://host:port/clock/*\n",
    "    \n",
    "WPApp(RootHandler).run_server(9000)"
   ]
  },
  {
   "cell_type": "markdown",
   "id": "0b1034e1",
   "metadata": {
    "slideshow": {
     "slide_type": "fragment"
    }
   },
   "source": [
    "```sh\n",
    "$ curl http://localhost:9000/clock/time\n",
    "Fri Nov 12 15:30:56 2021\n",
    "$ curl http://localhost:9000/greet/hello\n",
    "Hello, stranger\n",
    "```"
   ]
  },
  {
   "cell_type": "markdown",
   "id": "da3b9aff",
   "metadata": {
    "slideshow": {
     "slide_type": "slide"
    }
   },
   "source": [
    "# What exactly does a web method return ?\n",
    "\n",
    "* Strictly speaking a web method is supposed to return ``WebOb Response`` object\n",
    "  * full power of HTTP response building\n"
   ]
  },
  {
   "cell_type": "markdown",
   "id": "89da2aee",
   "metadata": {
    "slideshow": {
     "slide_type": "fragment"
    }
   },
   "source": [
    "* Convenience return options\n",
    "  * str -> HTTP response with given body and 200 status code\n",
    "  * bytes -> HTTP response with given body and 200 status code\n",
    "  * int -> HTTP response with given status code, empty body\n",
    "  * iterable -> chunked response body, 200 status code\n",
    "  * (int, string) -> status code, response body\n",
    "  * (int, iterable) -> status code, response body\n",
    "  * (iterable, string) -> body, content type\n",
    "  * (iterable, dictionary) -> body, headers=dictionary\n",
    "  * dictionary -> body=json.dumps(dictionary), content_type=\"text/json\"\n",
    "  * ... *many more* - all will be converted to Response(...) by webpie\n",
    " "
   ]
  },
  {
   "cell_type": "code",
   "execution_count": null,
   "id": "7dc9db47",
   "metadata": {
    "slideshow": {
     "slide_type": "fragment"
    }
   },
   "outputs": [],
   "source": [
    "def method(self, request, relpath, **args):\n",
    "    ...\n",
    "    return (format_csv(tup)+\"\\n\" for tup in my_data), \"text/csv\"\n",
    "    # equivalent: return Response(app_iter=(format_csv(...) ...), content_type=\"text/cvs\")"
   ]
  },
  {
   "cell_type": "markdown",
   "id": "167d6cb0",
   "metadata": {
    "slideshow": {
     "slide_type": "slide"
    }
   },
   "source": [
    "# App and Handler Lifetime\n",
    "\n",
    "* WPApp object is *persistent*\n",
    "  * Created once when the server process starts\n",
    "  * Can be used to store context across requests\n",
    "\n",
    "* WPHandler object is *transient*\n",
    "  * Created and destroyed for each request\n",
    "  * Has access to the WPApp object via ``self.App``, also passed to the Handler's ``__init__``\n",
    "  * Request (WebOb) object is passed to the Handler ``__init__`` and to the web method"
   ]
  },
  {
   "cell_type": "code",
   "execution_count": null,
   "id": "93693076",
   "metadata": {
    "slideshow": {
     "slide_type": "fragment"
    }
   },
   "outputs": [],
   "source": [
    "class MyHandler(WPHandler):\n",
    "    \n",
    "    def __init__(self, request, app):\n",
    "        WPHandler.__init__(self, request, app)\n",
    "        ...\n",
    "        \n",
    "    def method(self, request, relpath, *kw):\n",
    "        ...\n",
    "        app = self.App     # the persistent WPApp object"
   ]
  },
  {
   "cell_type": "markdown",
   "id": "7db632b5",
   "metadata": {
    "slideshow": {
     "slide_type": "slide"
    }
   },
   "source": [
    "# Threaded Applications\n",
    "\n",
    "* Built-in WebPie HTTP server as well as middlewares like uWSGI execute HTTP requests on threads\n",
    "* WebPie provides several mechanisms to support inter-thread synchronization/locking\n",
    "  * @app_synchronized decorator - coarse\n",
    "  * WPApp object as context manager - more fine grain\n",
    "\n",
    "\n",
    "\n"
   ]
  },
  {
   "cell_type": "markdown",
   "id": "adfbfd47",
   "metadata": {
    "slideshow": {
     "slide_type": "slide"
    }
   },
   "source": [
    "# WPApp as locking context manager"
   ]
  },
  {
   "cell_type": "code",
   "execution_count": null,
   "id": "eedf6534",
   "metadata": {
    "slideshow": {
     "slide_type": "fragment"
    }
   },
   "outputs": [],
   "source": [
    "from webpie import WPApp, WPHandler\n",
    "class Handler(WPHandler):\n",
    "    \n",
    "    def set(self, request, relpath, **kw):        # URL: .../set?name=value\n",
    "        name, value = list(kw.items())[0]         # extract name, value\n",
    "        with self.App:                            # lock the App\n",
    "            self.App.Memory[name] = value         # record into App memory\n",
    "            return \"OK\\n\"\n",
    "    \n",
    "    def get(self, request, varname):\n",
    "        with self.App:                            # lock the App\n",
    "            value = self.App.Memory.get(varname)\n",
    "            return value + \"\\n\" if value is not None else 404\n",
    "\n",
    "class App(WPApp):\n",
    "    \n",
    "    def __init__(self, *params, **args):\n",
    "        WPApp.__init__(self, *params, **args)\n",
    "        self.Memory = {}                          # accessible by concurrent threads\n",
    "        \n",
    "App(Handler).run_server(9000, max_connections=10) # up to 10 concurrent request threads"
   ]
  },
  {
   "cell_type": "markdown",
   "id": "0d707a3d",
   "metadata": {
    "slideshow": {
     "slide_type": "fragment"
    }
   },
   "source": [
    "```sh\n",
    "$ curl http://localhost:9000/get/x\n",
    "# (not found)\n",
    "$ curl http://localhost:9000/set?x=2\n",
    "OK\n",
    "$ curl http://localhost:9000/get/x\n",
    "2\n",
    "```"
   ]
  },
  {
   "cell_type": "markdown",
   "id": "ddb4d40c",
   "metadata": {
    "slideshow": {
     "slide_type": "slide"
    }
   },
   "source": [
    "# @app_synchronized decorator"
   ]
  },
  {
   "cell_type": "code",
   "execution_count": null,
   "id": "5b81d0f2",
   "metadata": {
    "slideshow": {
     "slide_type": "fragment"
    }
   },
   "outputs": [],
   "source": [
    "    @app_synchronized\n",
    "    def web_method(...):\n",
    "        # code\n",
    "        \n",
    "    # equivalent:\n",
    "    def web_method(...):\n",
    "        with self.App:\n",
    "            # code"
   ]
  },
  {
   "cell_type": "code",
   "execution_count": null,
   "id": "0a526799",
   "metadata": {
    "slideshow": {
     "slide_type": "fragment"
    }
   },
   "outputs": [],
   "source": [
    "from webpie import WPApp, WPHandler, app_synchronized\n",
    "class Handler(WPHandler):\n",
    "    \n",
    "    @app_synchronized\n",
    "    def set(self, request, relpath, **kw):        # URL: .../set?name=value\n",
    "        name, value = list(kw.items())[0]         # extract name, value\n",
    "        self.App.Memory[name] = value             # record into App memory\n",
    "        return \"OK\\n\"\n",
    "    \n",
    "    @app_synchronized\n",
    "    def get(self, request, varname):\n",
    "        value = self.App.Memory.get(varname)\n",
    "        return value + \"\\n\" if value is not None else 404\n",
    "\n",
    "class App(WPApp):\n",
    "    \n",
    "    def __init__(self, *params, **args):\n",
    "        WPApp.__init__(self, *params, **args)\n",
    "        self.Memory = {}\n",
    "        \n",
    "App(Handler).run_server(9000, max_connections=10) # up to 10 concurrent request threads"
   ]
  },
  {
   "cell_type": "markdown",
   "id": "b54fd5e5",
   "metadata": {
    "slideshow": {
     "slide_type": "slide"
    }
   },
   "source": [
    "# WSGI\n",
    "\n",
    "* WSGI - Web Server Gateway Interface - standard for web server development in Python\n",
    "  * https://www.python.org/dev/peps/pep-3333/\n",
    "  * https://docs.python.org/3/library/wsgiref.html#module-wsgiref\n",
    "* Apache/mod_wsgi, Ngix/uWSGI - available web servers where a WSGI application can be plugged\n",
    "* Any WPApp object *is* a WSGI application"
   ]
  },
  {
   "cell_type": "code",
   "execution_count": null,
   "id": "080c149e",
   "metadata": {
    "slideshow": {
     "slide_type": "fragment"
    }
   },
   "outputs": [],
   "source": [
    "from webpie import WPApp, WPHandler\n",
    "import time\n",
    "\n",
    "class Handler(WPHandler):\n",
    "    def hello(self, request, relpath, name=\"stranger\"):      \n",
    "        return f\"Hello, {name}\\n\"\n",
    "    def time(self, request, relpath):\n",
    "        return time.ctime() + \"\\n\"\n",
    "\n",
    "application = WPApp(Handler)         # WSGI application"
   ]
  },
  {
   "cell_type": "markdown",
   "id": "31dec8fd",
   "metadata": {
    "slideshow": {
     "slide_type": "fragment"
    }
   },
   "source": [
    "```sh\n",
    "$ uwsgi --wsgi-file wsgi_app.py --http :9000 \n",
    "```"
   ]
  },
  {
   "cell_type": "markdown",
   "id": "002fcf38",
   "metadata": {
    "slideshow": {
     "slide_type": "slide"
    }
   },
   "source": [
    "# uWSGI\n",
    "\n",
    "* Run same code standalone or under uWSGI"
   ]
  },
  {
   "cell_type": "code",
   "execution_count": null,
   "id": "c286de07",
   "metadata": {
    "slideshow": {
     "slide_type": "fragment"
    }
   },
   "outputs": [],
   "source": [
    "from webpie import WPApp, WPHandler\n",
    "import time\n",
    "\n",
    "class Handler(WPHandler):\n",
    "    def hello(self, request, relpath, name=\"stranger\"):      \n",
    "        return f\"Hello, {name}\\n\"\n",
    "    def time(self, request, relpath):\n",
    "        return time.ctime() + \"\\n\"\n",
    "\n",
    "application = WPApp(Handler)\n",
    "\n",
    "if __name__ == \"__main__\":\n",
    "    # running stand-alone\n",
    "    import sys\n",
    "    application.run_server(int(sys.argv[1]))"
   ]
  },
  {
   "cell_type": "markdown",
   "id": "124ec44b",
   "metadata": {
    "slideshow": {
     "slide_type": "fragment"
    }
   },
   "source": [
    "```sh\n",
    "$ uwsgi --wsgi-file wsgi_app.py --http :9000 \n",
    "$ python wsgi_app.py 9000\n",
    "```"
   ]
  },
  {
   "cell_type": "markdown",
   "id": "c0b2a1d3",
   "metadata": {
    "slideshow": {
     "slide_type": "slide"
    }
   },
   "source": [
    "# Other Features\n",
    "\n",
    "* Support for sessions - use WPSessionApp instead of WPApp\n",
    "  * uses cookies to carry session id\n",
    "  * persistent session data storage\n",
    "* Static file server - WPStaticHandler - pluggable into the Handler tree\n",
    "  * Add images, icons, JavaScript, CSS, etc. to your application\n",
    "* Method restrictions - strict applications\n",
    "  * not all methods of Handler class need to be exposed as web methods\n",
    "  * methods starting with \"_\" are not web methods\n",
    "* HTTPS support\n",
    "* Jinja2 support - if jinja2 is installed\n",
    "* Built in HTTP/HTTPS server\n",
    "  * multi-threaded\n",
    "  * multi-port\n",
    "  * multi-process\n",
    "  * multi-app - route by URL path prefix\n"
   ]
  },
  {
   "cell_type": "markdown",
   "id": "d89dd568",
   "metadata": {
    "slideshow": {
     "slide_type": "slide"
    }
   },
   "source": [
    "# Installation\n",
    "\n",
    "```sh\n",
    "$ pip install webpie\n",
    "\n",
    "or\n",
    "\n",
    "$ pip install --user webpie\n",
    "```"
   ]
  }
 ],
 "metadata": {
  "celltoolbar": "Slideshow",
  "kernelspec": {
   "display_name": "Python 3",
   "language": "python",
   "name": "python3"
  },
  "language_info": {
   "codemirror_mode": {
    "name": "ipython",
    "version": 3
   },
   "file_extension": ".py",
   "mimetype": "text/x-python",
   "name": "python",
   "nbconvert_exporter": "python",
   "pygments_lexer": "ipython3",
   "version": "3.8.5"
  }
 },
 "nbformat": 4,
 "nbformat_minor": 5
}
